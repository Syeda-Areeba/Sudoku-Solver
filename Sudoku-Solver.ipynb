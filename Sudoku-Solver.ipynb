{
 "cells": [
  {
   "cell_type": "code",
   "execution_count": 1,
   "id": "2e9407af",
   "metadata": {},
   "outputs": [],
   "source": [
    "import numpy as np\n",
    "import random"
   ]
  },
  {
   "cell_type": "code",
   "execution_count": 2,
   "id": "bdac4f20",
   "metadata": {},
   "outputs": [
    {
     "data": {
      "text/plain": [
       "[1, 2, 3, 4, 5, 6, 7, 8, 9]"
      ]
     },
     "execution_count": 2,
     "metadata": {},
     "output_type": "execute_result"
    }
   ],
   "source": [
    "DOMAIN = list(np.arange(1,10))\n",
    "DOMAIN"
   ]
  },
  {
   "cell_type": "code",
   "execution_count": 3,
   "id": "7dfff20d",
   "metadata": {},
   "outputs": [],
   "source": [
    "def create_grid():\n",
    "    entire_grid = []\n",
    "    for i in range(9):\n",
    "        sub_grid = np.random.choice(DOMAIN,9).reshape(3,3)  \n",
    "#         sub_grid = np.array(random.sample(DOMAIN,9)).reshape(3,3) \n",
    "        entire_grid.append(sub_grid)\n",
    "\n",
    "    entire_grid = np.array(entire_grid).reshape(9,9)\n",
    "    return entire_grid"
   ]
  },
  {
   "cell_type": "code",
   "execution_count": 4,
   "id": "73b8d985",
   "metadata": {},
   "outputs": [],
   "source": [
    "def correct_row(grid,row_no,place_zero=True):\n",
    "\n",
    "    row = grid[row_no]\n",
    "    duplicate = set()\n",
    "\n",
    "    for index,old_num in enumerate(row):\n",
    "\n",
    "        if(old_num not in duplicate):\n",
    "            duplicate.add(old_num)\n",
    "        else:\n",
    "            if(place_zero):\n",
    "                grid[row_no][index] = 0\n",
    "            else:\n",
    "                possibilities = np.array([i for i in DOMAIN if i not in duplicate])\n",
    "                new_num = np.random.choice(possibilities)\n",
    "                grid[row_no][index] = new_num\n",
    "                duplicate.add(new_num)\n",
    "               \n",
    "    return grid\n",
    "\n",
    "def correct_col(grid,col_no,place_zero=True):\n",
    "    \n",
    "    grid = grid.transpose()\n",
    "    col = grid[col_no]\n",
    "    duplicate = set()\n",
    "\n",
    "    for index,old_num in enumerate(col):\n",
    "\n",
    "        if(old_num not in duplicate):\n",
    "            duplicate.add(old_num)\n",
    "        else:\n",
    "            if(place_zero):\n",
    "                grid[col_no][index] = 0\n",
    "            else:\n",
    "                possibilities = np.array([i for i in DOMAIN if i not in duplicate])\n",
    "                new_num = np.random.choice(possibilities)\n",
    "                grid[col_no][index] = new_num\n",
    "                duplicate.add(new_num)\n",
    "               \n",
    "    return grid.transpose()\n",
    "\n",
    "def correct_sub_grid(grid,sub_grid_no,place_zero=True):\n",
    "    \n",
    "    row_no_start = (sub_grid_no // 3) * 3\n",
    "    col_no_start = (sub_grid_no % 3) * 3\n",
    "#     print(row_no_start,col_no_start)\n",
    "    duplicate = set()\n",
    "\n",
    "    for row_no in range(row_no_start,row_no_start+3):\n",
    "#         print(grid[row_no])\n",
    "        for col_no in range(col_no_start,col_no_start+3):\n",
    "#             print(grid.transpose()[col_no])\n",
    "\n",
    "            if(grid[row_no][col_no] not in duplicate):\n",
    "                duplicate.add(grid[row_no][col_no])\n",
    "            else:\n",
    "                if(place_zero):\n",
    "                    grid[row_no][col_no] = 0\n",
    "                else:\n",
    "                    possibilities = np.array([i for i in DOMAIN if i not in duplicate])\n",
    "                    new_num = np.random.choice(possibilities)\n",
    "                    grid[row_no][col_no] = new_num\n",
    "                    duplicate.add(new_num)\n",
    "    \n",
    "    return grid"
   ]
  },
  {
   "cell_type": "code",
   "execution_count": 5,
   "id": "767df994",
   "metadata": {},
   "outputs": [],
   "source": [
    "def fix_values(grid):\n",
    "    \n",
    "    for k in range(9):\n",
    "        grid = correct_row(grid,k)\n",
    "        grid = correct_col(grid,k)\n",
    "        grid = correct_sub_grid(grid,k)\n",
    "    return grid"
   ]
  },
  {
   "cell_type": "code",
   "execution_count": 6,
   "id": "cafac257",
   "metadata": {},
   "outputs": [],
   "source": [
    "def check_row_wise(grid):\n",
    "    total_invalid_entries = []\n",
    "    \n",
    "    for row_no in range(len(grid)):\n",
    "        row = grid[row_no]\n",
    "        \n",
    "        if(len(set(row)) != 9): # means that elements are not unique          \n",
    "            total_invalid_entries.append(row_no)\n",
    "            \n",
    "    return total_invalid_entries"
   ]
  },
  {
   "cell_type": "code",
   "execution_count": 7,
   "id": "ff57323e",
   "metadata": {},
   "outputs": [],
   "source": [
    "def check_col_wise(grid):\n",
    "    total_invalid_entries = []\n",
    "\n",
    "    for col_no in range(len(grid)):\n",
    "        col = grid.transpose()[col_no]\n",
    "        \n",
    "        if(len(set(col)) != 9): # means that elements are not unique      \n",
    "            total_invalid_entries.append(col_no)\n",
    "    \n",
    "    return total_invalid_entries"
   ]
  },
  {
   "cell_type": "code",
   "execution_count": 8,
   "id": "39f10cd1",
   "metadata": {},
   "outputs": [],
   "source": [
    "def check_subgrid_wise(grid):\n",
    "    total_invalid_entries = []\n",
    "    \n",
    "    for grid_no in range(len(grid)):\n",
    "        row_no_start = (grid_no // 3) * 3\n",
    "        col_no_start = (grid_no % 3) * 3\n",
    "        duplicate = set()\n",
    "        \n",
    "        for row_no in range(row_no_start,row_no_start+3):\n",
    "            for col_no in range(col_no_start,col_no_start+3):\n",
    "                \n",
    "                if(grid[row_no][col_no] not in duplicate):\n",
    "                    duplicate.add(grid[row_no][col_no])\n",
    "                else:\n",
    "                    total_invalid_entries.append((row_no,col_no))\n",
    "                    \n",
    "    return total_invalid_entries"
   ]
  },
  {
   "cell_type": "code",
   "execution_count": 9,
   "id": "88d87fe1",
   "metadata": {},
   "outputs": [],
   "source": [
    "def reset_fixed(grid):\n",
    "    \n",
    "    for row_no in range(9):\n",
    "        for col_no in range(9):\n",
    "\n",
    "            current_num = grid[row_no][col_no]\n",
    "#             print(suduko)\n",
    "            \n",
    "            if(current_num !=0):\n",
    "\n",
    "                if(valid(row_no,col_no,current_num,grid)): # if current num is valid then leave it as it is\n",
    "                    print(f'valid entry at {row_no},{col_no}')\n",
    "    #                 pass\n",
    "\n",
    "                else:\n",
    "                    row = grid[row_no]\n",
    "                    col = grid.transpose()[col_no]\n",
    "\n",
    "                    sub_grid_row_no = (row_no // 3) * 3\n",
    "                    sub_grid_col_no = (col_no // 3) * 3\n",
    "\n",
    "                    sub_grid = (grid[sub_grid_row_no:sub_grid_row_no+3, sub_grid_col_no:sub_grid_col_no+3]).flatten()\n",
    "\n",
    "                    current = set(list(row) + list(col) + list(sub_grid)) # to remove duplicates\n",
    "                    reduced_possible = [i for i in DOMAIN if i not in current]\n",
    "\n",
    "    #                 print(f'for cell {row_no},{col_no} = {reduced_possible}')\n",
    "\n",
    "                    if(len(reduced_possible) != 0) : # means there is some value possible for cell\n",
    "                        grid[row_no][col_no] = random.choice(reduced_possible)\n",
    "                    else:\n",
    "                        grid[row_no][col_no] = 0\n",
    "\n",
    "#         print(grid)\n",
    "    return grid"
   ]
  },
  {
   "cell_type": "code",
   "execution_count": 10,
   "id": "50d08e4a",
   "metadata": {},
   "outputs": [],
   "source": [
    "def valid(row_no,col_no,new_num,grid):\n",
    "\n",
    "    in_row = np.where(grid[row_no] ==  new_num, True, False)\n",
    "    in_col = np.where(grid.transpose()[col_no] == new_num, True, False)\n",
    "\n",
    "    row_start = (row_no // 3) * 3\n",
    "    col_start = (col_no // 3) * 3\n",
    "    \n",
    "    in_sub_grid = np.where(grid[row_start:row_start+3, col_start:col_start+3] == new_num, True, False)\n",
    "    \n",
    "#     print(in_row)\n",
    "#     print(in_col)\n",
    "#     print(in_sub_grid)\n",
    "    \n",
    "#     print(suduko)\n",
    "    if(np.any(in_row) or np.any(in_col) or np.any(in_sub_grid)):\n",
    "        return False\n",
    "    else:\n",
    "        return True"
   ]
  },
  {
   "cell_type": "code",
   "execution_count": 11,
   "id": "57482e19",
   "metadata": {
    "scrolled": true
   },
   "outputs": [],
   "source": [
    "def solve(grid):\n",
    "    \n",
    "    if(0 in grid):\n",
    "        row_no = np.where(grid == 0)[0][0]\n",
    "        col_no = np.where(grid == 0)[1][0]\n",
    "\n",
    "#         print(grid)\n",
    "#         print(row_no,col_no)\n",
    "\n",
    "        for new_num in DOMAIN:\n",
    "\n",
    "            if(valid(row_no,col_no,new_num,grid)):\n",
    "                grid[row_no][col_no] = new_num\n",
    "#                 print(grid)\n",
    "\n",
    "                if(solve(grid)):\n",
    "                    return True\n",
    "\n",
    "                grid[row_no][col_no] = 0 # if fails\n",
    "\n",
    "#         print(f'No value left for cell {row_no},{col_no}')\n",
    "        return False\n",
    "    \n",
    "    else:\n",
    "#         print('Solution found')\n",
    "        return True"
   ]
  },
  {
   "cell_type": "code",
   "execution_count": 12,
   "id": "76e47390",
   "metadata": {},
   "outputs": [],
   "source": [
    "def print_info(grid):\n",
    "    \n",
    "    incorrect_rows = check_row_wise(suduko)\n",
    "    incorrect_cols = check_col_wise(suduko)\n",
    "    incorrect_sub_grids = check_subgrid_wise(suduko)\n",
    "    \n",
    "    print(f'Incorrect Rows: {incorrect_rows}')\n",
    "    print(f'Incorrect Columns: {incorrect_rows}')\n",
    "    print(f'Incorrect Sub-grids: {incorrect_sub_grids}',end='\\n\\n')\n",
    "\n",
    "    incorrect_entries = len(incorrect_rows) + len(incorrect_cols) + len(incorrect_sub_grids)\n",
    "    return incorrect_entries"
   ]
  },
  {
   "cell_type": "code",
   "execution_count": 13,
   "id": "059bb0e8",
   "metadata": {
    "scrolled": true
   },
   "outputs": [],
   "source": [
    "def Solve_suduko_puzzle(suduko):\n",
    "    \n",
    "    suduko = fix_values(suduko)\n",
    "    print(f'Grid with fixed values: ')\n",
    "    print(suduko, end='\\n\\n')\n",
    "\n",
    "    incorrect_entries = print_info(suduko)\n",
    "    print(f'Total Incorrect entries are: {incorrect_entries}',end='\\n\\n')\n",
    "\n",
    "    while(True):\n",
    "        \n",
    "        if(solve(suduko)):\n",
    "            print('Solution found')\n",
    "            print(suduko, end='\\n\\n')\n",
    "            \n",
    "            current_incorrect = print_info(suduko)\n",
    "            corrected_entries = incorrect_entries - current_incorrect\n",
    "            print(f'Total Correct entries are: {corrected_entries}',end='\\n\\n')\n",
    "            \n",
    "            \n",
    "            return suduko,corrected_entries\n",
    "        \n",
    "        suduko = reset_fixed(suduko)\n",
    "        if(81 - len(np.nonzero(suduko)[0]) <= 17):\n",
    "            print('Not enough clues')\n",
    "            break"
   ]
  },
  {
   "cell_type": "markdown",
   "id": "2a248db2",
   "metadata": {},
   "source": [
    "# MAIN"
   ]
  },
  {
   "cell_type": "code",
   "execution_count": 14,
   "id": "95f2789b",
   "metadata": {},
   "outputs": [
    {
     "name": "stdout",
     "output_type": "stream",
     "text": [
      "Random grid: \n",
      "[[8 6 5 3 2 1 4 2 6]\n",
      " [4 7 8 9 6 1 5 6 1]\n",
      " [7 7 7 8 6 8 2 5 2]\n",
      " [8 5 5 7 6 2 2 5 8]\n",
      " [3 6 7 3 2 8 8 2 3]\n",
      " [2 6 7 9 4 2 2 8 3]\n",
      " [7 1 8 7 7 8 1 5 1]\n",
      " [8 4 8 1 6 3 3 4 2]\n",
      " [9 8 3 3 5 6 5 1 2]]\n",
      "\n",
      "Grid with fixed values: \n",
      "[[8 6 5 3 2 1 4 0 0]\n",
      " [4 7 0 9 6 0 5 0 0]\n",
      " [0 0 0 8 0 0 2 0 0]\n",
      " [0 5 0 7 0 2 0 0 8]\n",
      " [3 0 7 0 0 8 0 0 0]\n",
      " [2 0 0 0 4 0 0 0 3]\n",
      " [0 1 8 0 7 0 0 5 0]\n",
      " [0 4 0 1 0 3 0 0 2]\n",
      " [9 0 3 0 5 6 0 1 0]]\n",
      "\n",
      "Incorrect Rows: [0, 1, 2, 3, 4, 5, 6, 7, 8]\n",
      "Incorrect Columns: [0, 1, 2, 3, 4, 5, 6, 7, 8]\n",
      "Incorrect Sub-grids: [(2, 0), (2, 1), (2, 2), (2, 4), (2, 5), (0, 8), (1, 7), (1, 8), (2, 7), (2, 8), (3, 2), (4, 1), (5, 1), (5, 2), (4, 3), (4, 4), (5, 3), (5, 5), (3, 7), (4, 6), (4, 7), (4, 8), (5, 6), (5, 7), (7, 0), (7, 2), (8, 1), (6, 5), (7, 4), (8, 3), (6, 8), (7, 6), (7, 7), (8, 6), (8, 8)]\n",
      "\n",
      "Total Incorrect entries are: 53\n",
      "\n",
      "Solution found\n",
      "[[8 1 4 2 7 9 6 3 5]\n",
      " [6 2 5 1 3 4 8 9 7]\n",
      " [3 7 9 8 5 6 4 1 2]\n",
      " [2 4 8 6 1 7 9 5 3]\n",
      " [9 5 3 4 8 2 1 7 6]\n",
      " [7 6 1 5 9 3 2 4 8]\n",
      " [5 9 2 3 6 1 7 8 4]\n",
      " [4 8 7 9 2 5 3 6 1]\n",
      " [1 3 6 7 4 8 5 2 9]]\n",
      "\n",
      "Incorrect Rows: []\n",
      "Incorrect Columns: []\n",
      "Incorrect Sub-grids: []\n",
      "\n",
      "Total Correct entries are: 53\n",
      "\n"
     ]
    }
   ],
   "source": [
    "suduko = create_grid()\n",
    "print(f'Random grid: ')\n",
    "print(suduko,end='\\n\\n')\n",
    "\n",
    "suduko_puzzle,corrected_entries = Solve_suduko_puzzle(suduko)"
   ]
  },
  {
   "cell_type": "code",
   "execution_count": 15,
   "id": "f1f1da28",
   "metadata": {},
   "outputs": [
    {
     "name": "stdout",
     "output_type": "stream",
     "text": [
      "[[8 1 4 2 7 9 6 3 5]\n",
      " [6 2 5 1 3 4 8 9 7]\n",
      " [3 7 9 8 5 6 4 1 2]\n",
      " [2 4 8 6 1 7 9 5 3]\n",
      " [9 5 3 4 8 2 1 7 6]\n",
      " [7 6 1 5 9 3 2 4 8]\n",
      " [5 9 2 3 6 1 7 8 4]\n",
      " [4 8 7 9 2 5 3 6 1]\n",
      " [1 3 6 7 4 8 5 2 9]]\n",
      "53\n"
     ]
    }
   ],
   "source": [
    "print(suduko_puzzle)\n",
    "print(corrected_entries)"
   ]
  },
  {
   "cell_type": "code",
   "execution_count": 16,
   "id": "8519c562",
   "metadata": {},
   "outputs": [
    {
     "name": "stdout",
     "output_type": "stream",
     "text": [
      "[]\n",
      "[]\n",
      "[]\n"
     ]
    }
   ],
   "source": [
    "print(check_row_wise(suduko_puzzle))\n",
    "print(check_col_wise(suduko_puzzle))\n",
    "print(check_subgrid_wise(suduko_puzzle))"
   ]
  }
 ],
 "metadata": {
  "kernelspec": {
   "display_name": "Python 3 (ipykernel)",
   "language": "python",
   "name": "python3"
  },
  "language_info": {
   "codemirror_mode": {
    "name": "ipython",
    "version": 3
   },
   "file_extension": ".py",
   "mimetype": "text/x-python",
   "name": "python",
   "nbconvert_exporter": "python",
   "pygments_lexer": "ipython3",
   "version": "3.9.12"
  }
 },
 "nbformat": 4,
 "nbformat_minor": 5
}
